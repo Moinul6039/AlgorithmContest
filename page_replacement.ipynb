{
  "nbformat": 4,
  "nbformat_minor": 0,
  "metadata": {
    "colab": {
      "provenance": [],
      "authorship_tag": "ABX9TyMUHrmZmEWgeSIrHRLab9Ke",
      "include_colab_link": true
    },
    "kernelspec": {
      "name": "python3",
      "display_name": "Python 3"
    },
    "language_info": {
      "name": "python"
    }
  },
  "cells": [
    {
      "cell_type": "markdown",
      "metadata": {
        "id": "view-in-github",
        "colab_type": "text"
      },
      "source": [
        "<a href=\"https://colab.research.google.com/github/Moinul6039/AlgorithmContest/blob/main/page_replacement.ipynb\" target=\"_parent\"><img src=\"https://colab.research.google.com/assets/colab-badge.svg\" alt=\"Open In Colab\"/></a>"
      ]
    },
    {
      "cell_type": "code",
      "execution_count": 8,
      "metadata": {
        "id": "nIIAdmevE4dE"
      },
      "outputs": [],
      "source": [
        "from queue import Queue\n",
        "\n",
        "def fifo_page_replacement(page_sequence, frame_size):\n",
        "    frames = Queue(maxsize=frame_size)  # Use Queue for FIFO\n",
        "    page_faults = 0\n",
        "\n",
        "    for page in page_sequence:\n",
        "        if page not in list(frames.queue):\n",
        "            page_faults += 1\n",
        "            if frames.full():\n",
        "                frames.get()  # Remove the oldest page (FIFO)\n",
        "            frames.put(page)\n",
        "\n",
        "    total_requests = len(page_sequence)\n",
        "    page_fault_ratio = page_faults / total_requests\n",
        "    return page_faults, page_fault_ratio"
      ]
    },
    {
      "cell_type": "code",
      "source": [
        "def lru_page_replacement(page_sequence, frame_size):\n",
        "    frames = Queue(maxsize=frame_size)  # Use Queue to emulate LRU\n",
        "    page_faults = 0\n",
        "    recent_usage = []\n",
        "\n",
        "    for page in page_sequence:\n",
        "        if page in recent_usage:\n",
        "            recent_usage.remove(page)  # Move accessed page to the most recent position\n",
        "        else:\n",
        "            page_faults += 1\n",
        "            if len(recent_usage) == frame_size:\n",
        "                # Remove the least recently used page\n",
        "                lru_page = recent_usage.pop(0)\n",
        "                frames.queue.remove(lru_page)\n",
        "            frames.put(page)\n",
        "        recent_usage.append(page)\n",
        "\n",
        "    total_requests = len(page_sequence)\n",
        "    page_fault_ratio = page_faults / total_requests\n",
        "    return page_faults, page_fault_ratio"
      ],
      "metadata": {
        "id": "npWEPYkNFBRN"
      },
      "execution_count": 9,
      "outputs": []
    },
    {
      "cell_type": "code",
      "source": [
        "def mru_page_replacement(page_sequence, frame_size):\n",
        "    frames = Queue(maxsize=frame_size)  # Use Queue to emulate MRU\n",
        "    page_faults = 0\n",
        "    recent_usage = []\n",
        "\n",
        "    for page in page_sequence:\n",
        "        if page in recent_usage:\n",
        "            recent_usage.remove(page)  # Move accessed page to the most recent position\n",
        "        else:\n",
        "            page_faults += 1\n",
        "            if len(recent_usage) == frame_size:\n",
        "                # Remove the most recently used page\n",
        "                mru_page = recent_usage.pop(-1)\n",
        "                frames.queue.remove(mru_page)\n",
        "            frames.put(page)\n",
        "        recent_usage.append(page)\n",
        "\n",
        "    total_requests = len(page_sequence)\n",
        "    page_fault_ratio = page_faults / total_requests\n",
        "    return page_faults, page_fault_ratio"
      ],
      "metadata": {
        "id": "glZJA_bOFVot"
      },
      "execution_count": 10,
      "outputs": []
    },
    {
      "cell_type": "code",
      "source": [
        "page_sequence = [7, 0, 1, 2, 0, 3, 0, 4, 2, 3, 0, 3, 2, 1, 2, 0, 1, 7, 0, 1]\n",
        "frame_size = 3\n",
        "\n",
        "fifo_results = fifo_page_replacement(page_sequence, frame_size)\n",
        "lru_results = lru_page_replacement(page_sequence, frame_size)\n",
        "mru_results = mru_page_replacement(page_sequence, frame_size)"
      ],
      "metadata": {
        "id": "CmE9anVOFWds"
      },
      "execution_count": 11,
      "outputs": []
    },
    {
      "cell_type": "code",
      "source": [
        "print(\"FIFO Results:\")\n",
        "print(f\"Page Faults: {fifo_results[0]}, Page Fault Ratio: {fifo_results[1]:.2f}\")\n"
      ],
      "metadata": {
        "colab": {
          "base_uri": "https://localhost:8080/"
        },
        "id": "_11VqMxOFdG8",
        "outputId": "70efeecf-8660-46ca-be96-870f780837b0"
      },
      "execution_count": 12,
      "outputs": [
        {
          "output_type": "stream",
          "name": "stdout",
          "text": [
            "FIFO Results:\n",
            "Page Faults: 15, Page Fault Ratio: 0.75\n"
          ]
        }
      ]
    },
    {
      "cell_type": "code",
      "source": [
        "print(\"\\nLRU Results:\")\n",
        "print(f\"Page Faults: {lru_results[0]}, Page Fault Ratio: {lru_results[1]:.2f}\")"
      ],
      "metadata": {
        "colab": {
          "base_uri": "https://localhost:8080/"
        },
        "id": "jHPxdndrFgFW",
        "outputId": "d637da23-a1a5-4cd2-8eaf-0f2cef6a52a6"
      },
      "execution_count": 13,
      "outputs": [
        {
          "output_type": "stream",
          "name": "stdout",
          "text": [
            "\n",
            "LRU Results:\n",
            "Page Faults: 12, Page Fault Ratio: 0.60\n"
          ]
        }
      ]
    },
    {
      "cell_type": "code",
      "source": [
        "print(\"\\nMRU Results:\")\n",
        "print(f\"Page Faults: {mru_results[0]}, Page Fault Ratio: {mru_results[1]:.2f}\")"
      ],
      "metadata": {
        "colab": {
          "base_uri": "https://localhost:8080/"
        },
        "id": "f5NF4B3hFhi0",
        "outputId": "8c881953-3975-4711-cac0-a1015def94b6"
      },
      "execution_count": 14,
      "outputs": [
        {
          "output_type": "stream",
          "name": "stdout",
          "text": [
            "\n",
            "MRU Results:\n",
            "Page Faults: 16, Page Fault Ratio: 0.80\n"
          ]
        }
      ]
    },
    {
      "cell_type": "code",
      "source": [
        "from queue import Queue\n",
        "\n",
        "\n",
        "# Function to find page faults using FIFO\n",
        "def pageFaults(incomingStream, n, frames):\n",
        "    print(\"Incoming \\t pages\")\n",
        "    # Using Hashset to quickly check if a given\n",
        "    # incoming stream item in set or not\n",
        "    s = set()\n",
        "\n",
        "    # Queue created to store pages in FIFO manner\n",
        "    # since set will not store order or entry\n",
        "    # we will use queue to note order of entry of incoming page\n",
        "    queue = Queue()\n",
        "\n",
        "    page_faults = 0\n",
        "    for i in range(n):\n",
        "\n",
        "        # if set has lesser item than frames\n",
        "        # i.e. set can hold more items\n",
        "        if len(s) < frames:\n",
        "\n",
        "            # If incoming item is not present, add to set\n",
        "            if incomingStream[i] not in s:\n",
        "                s.add(incomingStream[i])\n",
        "\n",
        "                # increment page fault\n",
        "                page_faults += 1\n",
        "\n",
        "                # Push the incoming page into the queue\n",
        "                queue.put(incomingStream[i])\n",
        "\n",
        "        # If the set is full then we need to do page replacement\n",
        "        # in FIFO manner that is remove first item from both\n",
        "        # set and queue then insert incoming page\n",
        "        else:\n",
        "\n",
        "            # If incoming item is not present\n",
        "            if incomingStream[i] not in s:\n",
        "                # remove the first page from the queue\n",
        "                val = queue.queue[0]\n",
        "\n",
        "                queue.get()\n",
        "\n",
        "                # Remove from set\n",
        "                s.remove(val)\n",
        "\n",
        "                # insert incoming page to set\n",
        "                s.add(incomingStream[i])\n",
        "\n",
        "                # push incoming page to queue\n",
        "                queue.put(incomingStream[i])\n",
        "\n",
        "                # Increment page faults\n",
        "                page_faults += 1\n",
        "\n",
        "        print(incomingStream[i], end=\"\\t\\t\")\n",
        "        for q_item in queue.queue:\n",
        "            print(q_item, end=\"\\t\")\n",
        "\n",
        "        print()\n",
        "    return page_faults\n",
        "\n",
        "\n",
        "# Driver code\n",
        "incomingStream = [7, 0, 1, 2, 0, 3, 0, 4, 2, 3, 0, 3, 2, 1]\n",
        "n = len(incomingStream)\n",
        "frames = 3\n",
        "page_faults = pageFaults(incomingStream, n, frames)\n",
        "hits = n - page_faults\n",
        "\n",
        "print(\"\\nPage Faults: \" + str(page_faults))\n",
        "print(\"Hit: \" + str(hits))"
      ],
      "metadata": {
        "colab": {
          "base_uri": "https://localhost:8080/"
        },
        "id": "hzmH8MP2Hy30",
        "outputId": "f1c47e50-1a05-478e-fefe-2578067a124b"
      },
      "execution_count": 15,
      "outputs": [
        {
          "output_type": "stream",
          "name": "stdout",
          "text": [
            "Incoming \t pages\n",
            "7\t\t7\t\n",
            "0\t\t7\t0\t\n",
            "1\t\t7\t0\t1\t\n",
            "2\t\t0\t1\t2\t\n",
            "0\t\t0\t1\t2\t\n",
            "3\t\t1\t2\t3\t\n",
            "0\t\t2\t3\t0\t\n",
            "4\t\t3\t0\t4\t\n",
            "2\t\t0\t4\t2\t\n",
            "3\t\t4\t2\t3\t\n",
            "0\t\t2\t3\t0\t\n",
            "3\t\t2\t3\t0\t\n",
            "2\t\t2\t3\t0\t\n",
            "1\t\t3\t0\t1\t\n",
            "\n",
            "Page Faults: 11\n",
            "Hit: 3\n"
          ]
        }
      ]
    }
  ]
}